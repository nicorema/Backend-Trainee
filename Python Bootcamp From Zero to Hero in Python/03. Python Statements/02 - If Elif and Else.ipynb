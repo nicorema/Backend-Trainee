{
 "cells": [
  {
   "cell_type": "code",
   "execution_count": 12,
   "metadata": {},
   "outputs": [
    {
     "name": "stdout",
     "output_type": "stream",
     "text": [
      "Don't Feed\n"
     ]
    }
   ],
   "source": [
    "hungry = 0\n",
    "if hungry:\n",
    "    print('Feed')\n",
    "else:\n",
    "    print(\"Don't Feed\")"
   ]
  },
  {
   "cell_type": "code",
   "execution_count": 17,
   "metadata": {},
   "outputs": [
    {
     "name": "stdout",
     "output_type": "stream",
     "text": [
      "Buying beer\n"
     ]
    }
   ],
   "source": [
    "loc = 'Store'\n",
    "if(loc == 'Store'):\n",
    "    print('Buying beer')\n",
    "elif(loc == 'Bank'):\n",
    "    print('Paying debt')\n",
    "else:\n",
    "    print('Where I am?')\n"
   ]
  },
  {
   "cell_type": "code",
   "execution_count": null,
   "metadata": {},
   "outputs": [],
   "source": []
  }
 ],
 "metadata": {
  "kernelspec": {
   "display_name": "Python 3",
   "language": "python",
   "name": "python3"
  },
  "language_info": {
   "codemirror_mode": {
    "name": "ipython",
    "version": 3
   },
   "file_extension": ".py",
   "mimetype": "text/x-python",
   "name": "python",
   "nbconvert_exporter": "python",
   "pygments_lexer": "ipython3",
   "version": "3.8.5"
  }
 },
 "nbformat": 4,
 "nbformat_minor": 4
}
