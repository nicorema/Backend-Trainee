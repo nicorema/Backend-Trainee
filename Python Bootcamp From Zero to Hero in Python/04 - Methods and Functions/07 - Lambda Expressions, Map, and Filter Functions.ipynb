{
 "cells": [
  {
   "cell_type": "code",
   "execution_count": 1,
   "id": "8d938af1",
   "metadata": {},
   "outputs": [],
   "source": [
    "def square(num):\n",
    "    return num **2"
   ]
  },
  {
   "cell_type": "code",
   "execution_count": 2,
   "id": "447152eb",
   "metadata": {},
   "outputs": [],
   "source": [
    "my_nums =[1,2,3,4,5,6]"
   ]
  },
  {
   "cell_type": "code",
   "execution_count": 5,
   "id": "21e7581a",
   "metadata": {},
   "outputs": [
    {
     "data": {
      "text/plain": [
       "[1, 4, 9, 16, 25, 36]"
      ]
     },
     "execution_count": 5,
     "metadata": {},
     "output_type": "execute_result"
    }
   ],
   "source": [
    "list(map(square, my_nums))"
   ]
  },
  {
   "cell_type": "code",
   "execution_count": 6,
   "id": "64cd8d2f",
   "metadata": {},
   "outputs": [],
   "source": [
    "def splicer(mystring):\n",
    "    if len(mystring) % 2 == 0:\n",
    "        return 'EVEN'\n",
    "    else:\n",
    "        return mystring[0]"
   ]
  },
  {
   "cell_type": "code",
   "execution_count": 7,
   "id": "60b0716d",
   "metadata": {},
   "outputs": [],
   "source": [
    "names=['Andy','Eve','Sally']"
   ]
  },
  {
   "cell_type": "code",
   "execution_count": 8,
   "id": "df544a58",
   "metadata": {},
   "outputs": [
    {
     "data": {
      "text/plain": [
       "['EVEN', 'E', 'S']"
      ]
     },
     "execution_count": 8,
     "metadata": {},
     "output_type": "execute_result"
    }
   ],
   "source": [
    "list(map(splicer,names))"
   ]
  },
  {
   "cell_type": "code",
   "execution_count": 12,
   "id": "d959488b",
   "metadata": {},
   "outputs": [],
   "source": [
    "def check_even(num):\n",
    "    return num%2 == 0"
   ]
  },
  {
   "cell_type": "code",
   "execution_count": 13,
   "id": "8cfa98d2",
   "metadata": {},
   "outputs": [
    {
     "data": {
      "text/plain": [
       "[2, 4, 6]"
      ]
     },
     "execution_count": 13,
     "metadata": {},
     "output_type": "execute_result"
    }
   ],
   "source": [
    "list(filter(check_even,my_nums))"
   ]
  },
  {
   "cell_type": "code",
   "execution_count": 16,
   "id": "2acf5464",
   "metadata": {},
   "outputs": [],
   "source": [
    "square2 = lambda num: num **2"
   ]
  },
  {
   "cell_type": "code",
   "execution_count": 17,
   "id": "2bab1d32",
   "metadata": {},
   "outputs": [
    {
     "data": {
      "text/plain": [
       "100"
      ]
     },
     "execution_count": 17,
     "metadata": {},
     "output_type": "execute_result"
    }
   ],
   "source": [
    "square2(10)"
   ]
  },
  {
   "cell_type": "code",
   "execution_count": 18,
   "id": "189e51fc",
   "metadata": {},
   "outputs": [
    {
     "data": {
      "text/plain": [
       "[1, 4, 9, 16, 25, 36]"
      ]
     },
     "execution_count": 18,
     "metadata": {},
     "output_type": "execute_result"
    }
   ],
   "source": [
    "list(map(lambda num: num **2,my_nums))"
   ]
  },
  {
   "cell_type": "code",
   "execution_count": 19,
   "id": "a4403512",
   "metadata": {},
   "outputs": [
    {
     "data": {
      "text/plain": [
       "[2, 4, 6]"
      ]
     },
     "execution_count": 19,
     "metadata": {},
     "output_type": "execute_result"
    }
   ],
   "source": [
    "list(filter(lambda num:num%2==0,my_nums))"
   ]
  },
  {
   "cell_type": "code",
   "execution_count": 22,
   "id": "fedba1ff",
   "metadata": {},
   "outputs": [
    {
     "data": {
      "text/plain": [
       "['ydnA', 'evE', 'yllaS']"
      ]
     },
     "execution_count": 22,
     "metadata": {},
     "output_type": "execute_result"
    }
   ],
   "source": [
    "list(map(lambda name:name[::-1],names))"
   ]
  },
  {
   "cell_type": "code",
   "execution_count": null,
   "id": "fd106586",
   "metadata": {},
   "outputs": [],
   "source": []
  }
 ],
 "metadata": {
  "kernelspec": {
   "display_name": "Python 3",
   "language": "python",
   "name": "python3"
  },
  "language_info": {
   "codemirror_mode": {
    "name": "ipython",
    "version": 3
   },
   "file_extension": ".py",
   "mimetype": "text/x-python",
   "name": "python",
   "nbconvert_exporter": "python",
   "pygments_lexer": "ipython3",
   "version": "3.8.8"
  }
 },
 "nbformat": 4,
 "nbformat_minor": 5
}
