{
 "cells": [
  {
   "cell_type": "code",
   "execution_count": 10,
   "id": "1bbef90e",
   "metadata": {},
   "outputs": [],
   "source": [
    "from random import shuffle\n",
    "def shuffle_cups():\n",
    "    cups=['O','','']\n",
    "    shuffle(cups)\n",
    "    return cups"
   ]
  },
  {
   "cell_type": "code",
   "execution_count": 3,
   "id": "d9fbe56b",
   "metadata": {},
   "outputs": [],
   "source": [
    "def player_guess():\n",
    "    guess = ''\n",
    "    while guess not in ['0','1','2']:\n",
    "        guess = input(\"Pick a cup (0, 1, or 2)\")\n",
    "        \n",
    "    return int(guess)\n"
   ]
  },
  {
   "cell_type": "code",
   "execution_count": 5,
   "id": "d5031c26",
   "metadata": {},
   "outputs": [
    {
     "name": "stdout",
     "output_type": "stream",
     "text": [
      "Pick a cup (0, 1, or 2)1\n"
     ]
    },
    {
     "data": {
      "text/plain": [
       "1"
      ]
     },
     "execution_count": 5,
     "metadata": {},
     "output_type": "execute_result"
    }
   ],
   "source": [
    "player_guess()"
   ]
  },
  {
   "cell_type": "code",
   "execution_count": 12,
   "id": "1ceaa2ed",
   "metadata": {},
   "outputs": [],
   "source": [
    "def check_guess(cups,guess):\n",
    "    if cups[guess] == 'O':\n",
    "        print('Correct :D')\n",
    "    else:\n",
    "        print('Incorrect D:')\n",
    "    print(cups)"
   ]
  },
  {
   "cell_type": "code",
   "execution_count": 13,
   "id": "8f928b02",
   "metadata": {},
   "outputs": [
    {
     "name": "stdout",
     "output_type": "stream",
     "text": [
      "Pick a cup (0, 1, or 2)1\n",
      "Correct :D\n",
      "['', 'O', '']\n"
     ]
    }
   ],
   "source": [
    "cups=shuffle_cups()\n",
    "guess = player_guess()\n",
    "check_guess(cups,guess)"
   ]
  },
  {
   "cell_type": "code",
   "execution_count": null,
   "id": "42f4fd24",
   "metadata": {},
   "outputs": [],
   "source": []
  }
 ],
 "metadata": {
  "kernelspec": {
   "display_name": "Python 3",
   "language": "python",
   "name": "python3"
  }
 },
 "nbformat": 4,
 "nbformat_minor": 5
}
