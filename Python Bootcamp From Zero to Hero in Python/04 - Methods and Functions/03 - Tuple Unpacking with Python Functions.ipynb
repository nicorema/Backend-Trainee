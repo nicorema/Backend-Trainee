{
 "cells": [
  {
   "cell_type": "code",
   "execution_count": 1,
   "id": "11d49b4a",
   "metadata": {},
   "outputs": [],
   "source": [
    "stock_prices=[('APPLE',200),('GOOGLE',400),('MICROSOFT',100)]"
   ]
  },
  {
   "cell_type": "code",
   "execution_count": 3,
   "id": "0988ee3b",
   "metadata": {},
   "outputs": [
    {
     "name": "stdout",
     "output_type": "stream",
     "text": [
      "('APPLE', 200)\n",
      "('GOOGLE', 400)\n",
      "('MICROSOFT', 100)\n"
     ]
    }
   ],
   "source": [
    "for stock in stock_prices:\n",
    "    print(stock)"
   ]
  },
  {
   "cell_type": "code",
   "execution_count": 10,
   "id": "c8bf624a",
   "metadata": {},
   "outputs": [
    {
     "name": "stdout",
     "output_type": "stream",
     "text": [
      "APPLE Worth: $200USD\n",
      "GOOGLE Worth: $400USD\n",
      "MICROSOFT Worth: $100USD\n"
     ]
    }
   ],
   "source": [
    "for ticker,price in stock_prices:\n",
    "    print(f'{ticker} Worth: ${price}USD')"
   ]
  },
  {
   "cell_type": "code",
   "execution_count": 25,
   "id": "b670b4db",
   "metadata": {},
   "outputs": [],
   "source": [
    "work_hours=[('Abby',800),('Billy',1100),('Cassie',700)]"
   ]
  },
  {
   "cell_type": "code",
   "execution_count": 20,
   "id": "d0d4fe5e",
   "metadata": {},
   "outputs": [],
   "source": [
    "def employee_check(work_hours):\n",
    "    current_max = 0;\n",
    "    employee_of_month = ''\n",
    "    for employee,hours in work_hours:\n",
    "        if hours > current_max:\n",
    "            current_max = hours\n",
    "            employee_of_month = employee\n",
    "    return (employee_of_month, current_max)"
   ]
  },
  {
   "cell_type": "code",
   "execution_count": 30,
   "id": "9ecca92d",
   "metadata": {},
   "outputs": [
    {
     "name": "stdout",
     "output_type": "stream",
     "text": [
      "Billy\n",
      "1100\n"
     ]
    }
   ],
   "source": [
    "name,hours = employee_check(work_hours)\n",
    "print(name)\n",
    "print(hours)"
   ]
  },
  {
   "cell_type": "code",
   "execution_count": null,
   "id": "b800e22e",
   "metadata": {},
   "outputs": [],
   "source": []
  }
 ],
 "metadata": {
  "kernelspec": {
   "display_name": "Python 3",
   "language": "python",
   "name": "python3"
  },
  "language_info": {
   "codemirror_mode": {
    "name": "ipython",
    "version": 3
   },
   "file_extension": ".py",
   "mimetype": "text/x-python",
   "name": "python",
   "nbconvert_exporter": "python",
   "pygments_lexer": "ipython3",
   "version": "3.8.8"
  }
 },
 "nbformat": 4,
 "nbformat_minor": 5
}
