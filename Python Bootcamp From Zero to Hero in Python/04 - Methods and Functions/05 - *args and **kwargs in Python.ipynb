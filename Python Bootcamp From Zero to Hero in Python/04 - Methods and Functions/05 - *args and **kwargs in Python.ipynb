{
 "cells": [
  {
   "cell_type": "code",
   "execution_count": 4,
   "id": "76d6bb7b",
   "metadata": {},
   "outputs": [],
   "source": [
    "def myfunc(a,b,c=0,d=0):\n",
    "    # Returns 5% of the sum of a and b\n",
    "    return sum((a,b,c,d))*0.05"
   ]
  },
  {
   "cell_type": "code",
   "execution_count": 6,
   "id": "f99d5659",
   "metadata": {},
   "outputs": [
    {
     "ename": "TypeError",
     "evalue": "myfunc() takes from 2 to 4 positional arguments but 6 were given",
     "output_type": "error",
     "traceback": [
      "\u001b[0;31m---------------------------------------------------------------------------\u001b[0m",
      "\u001b[0;31mTypeError\u001b[0m                                 Traceback (most recent call last)",
      "\u001b[0;32m<ipython-input-6-c65a764b7539>\u001b[0m in \u001b[0;36m<module>\u001b[0;34m\u001b[0m\n\u001b[0;32m----> 1\u001b[0;31m \u001b[0mmyfunc\u001b[0m\u001b[0;34m(\u001b[0m\u001b[0;36m40\u001b[0m\u001b[0;34m,\u001b[0m\u001b[0;36m60\u001b[0m\u001b[0;34m,\u001b[0m\u001b[0;36m100\u001b[0m\u001b[0;34m,\u001b[0m\u001b[0;36m100\u001b[0m\u001b[0;34m,\u001b[0m\u001b[0;36m3\u001b[0m\u001b[0;34m,\u001b[0m\u001b[0;36m4\u001b[0m\u001b[0;34m)\u001b[0m\u001b[0;34m\u001b[0m\u001b[0;34m\u001b[0m\u001b[0m\n\u001b[0m",
      "\u001b[0;31mTypeError\u001b[0m: myfunc() takes from 2 to 4 positional arguments but 6 were given"
     ]
    }
   ],
   "source": [
    "myfunc(40,60,100,100,3,4)"
   ]
  },
  {
   "cell_type": "code",
   "execution_count": 11,
   "id": "1274bc37",
   "metadata": {},
   "outputs": [],
   "source": [
    "def myfuncargs(*args):\n",
    "    return sum(args) * 0.05"
   ]
  },
  {
   "cell_type": "code",
   "execution_count": 12,
   "id": "f0d30626",
   "metadata": {},
   "outputs": [
    {
     "data": {
      "text/plain": [
       "15.350000000000001"
      ]
     },
     "execution_count": 12,
     "metadata": {},
     "output_type": "execute_result"
    }
   ],
   "source": [
    "myfuncargs(40,60,100,100,3,4)"
   ]
  },
  {
   "cell_type": "code",
   "execution_count": 13,
   "id": "0c3967c0",
   "metadata": {},
   "outputs": [],
   "source": [
    "def myfunckwargs(**kwargs):\n",
    "    if 'fruit' in kwargs:\n",
    "        print('My Fruit of choice is {}'.format(kwargs['fruit']))\n",
    "    else:\n",
    "        print('No Fruit')"
   ]
  },
  {
   "cell_type": "code",
   "execution_count": 16,
   "id": "65de40dd",
   "metadata": {},
   "outputs": [
    {
     "name": "stdout",
     "output_type": "stream",
     "text": [
      "My fruit of choice is apple\n"
     ]
    }
   ],
   "source": [
    "myfunckwargs(fruit='apple')"
   ]
  },
  {
   "cell_type": "code",
   "execution_count": 20,
   "id": "5d933462",
   "metadata": {},
   "outputs": [],
   "source": [
    "def myfuncmix(*args,**kwargs):\n",
    "    print('I would like {} {}'.format(sum(args),kwargs['food']))"
   ]
  },
  {
   "cell_type": "code",
   "execution_count": 21,
   "id": "b5cd718d",
   "metadata": {},
   "outputs": [
    {
     "name": "stdout",
     "output_type": "stream",
     "text": [
      "I would like 60 eggs\n"
     ]
    }
   ],
   "source": [
    "myfuncmix(10,20,30,food='eggs')"
   ]
  },
  {
   "cell_type": "code",
   "execution_count": null,
   "id": "89468beb",
   "metadata": {},
   "outputs": [],
   "source": []
  }
 ],
 "metadata": {
  "kernelspec": {
   "display_name": "Python 3",
   "language": "python",
   "name": "python3"
  },
  "language_info": {
   "codemirror_mode": {
    "name": "ipython",
    "version": 3
   },
   "file_extension": ".py",
   "mimetype": "text/x-python",
   "name": "python",
   "nbconvert_exporter": "python",
   "pygments_lexer": "ipython3",
   "version": "3.8.8"
  }
 },
 "nbformat": 4,
 "nbformat_minor": 5
}
